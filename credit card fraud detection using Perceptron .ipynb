{
  "nbformat": 4,
  "nbformat_minor": 0,
  "metadata": {
    "colab": {
      "name": "20122038_Perceptron",
      "provenance": [],
      "collapsed_sections": [],
      "authorship_tag": "ABX9TyNu6SyjzcTkeW27JZIljbvr",
      "include_colab_link": true
    },
    "kernelspec": {
      "display_name": "Python 3",
      "name": "python3"
    },
    "language_info": {
      "name": "python"
    }
  },
  "cells": [
    {
      "cell_type": "markdown",
      "metadata": {
        "id": "view-in-github",
        "colab_type": "text"
      },
      "source": [
        "<a href=\"https://colab.research.google.com/github/preetis258/my_first_repo/blob/master/credit%20card%20fraud%20detection%20using%20Perceptron%20.ipynb\" target=\"_parent\"><img src=\"https://colab.research.google.com/assets/colab-badge.svg\" alt=\"Open In Colab\"/></a>"
      ]
    },
    {
      "cell_type": "code",
      "metadata": {
        "id": "KpOwHO5JZ8_b"
      },
      "source": [
        ""
      ],
      "execution_count": null,
      "outputs": []
    },
    {
      "cell_type": "markdown",
      "metadata": {
        "id": "e46IX62SZ9d7"
      },
      "source": [
        "#Perceptron"
      ]
    },
    {
      "cell_type": "code",
      "metadata": {
        "id": "x8_lvXxYFMZd"
      },
      "source": [
        "import numpy as np\n",
        "\n",
        "class Perceptron:\n",
        "  def __init__(self,learning_rate, n_iters, function):\n",
        "    self.lr = learning_rate #learning rate\n",
        "    self.n_iters = n_iters #number of iterations\n",
        "    self.weight = None #weights\n",
        "    self.bias = None #bias\n",
        "    if function == 'step_function':\n",
        "      self.activation_func = self._unit_step_func       #taking step function as activation function\n",
        "    elif function =='sigmoid':\n",
        "      self.activation_func = self._sigmoid_func       #taking sigmoid function as activation function\n",
        "    elif function == 'relu':\n",
        "      self.activation_func = self._relu_func      #taking relu function as activation function\n",
        "    elif function == 'tanh':\n",
        "      self.activation_func = self._tanh_func      #taking tanh function as activation function      \n",
        "\n",
        "  def _unit_step_func(self,x):\n",
        "    return np.where(x>=0, 1, 0)\n",
        "\n",
        "  def _sigmoid_func(self,x):\n",
        "    return 1/(1 + np.exp(-x))\n",
        " \n",
        "  def _relu_func(self, x):\n",
        "    return np.maximum(0,x)\n",
        "  \n",
        "  def _tanh_func(self,x):\n",
        "    return (2/(1+np.exp((-2)*x)))-1\n",
        "\n",
        "  def fit(self,X,y):\n",
        "    #samples and features \n",
        "    n_samples, n_features = X.shape\n",
        "\n",
        "    #converting values to 1 and 0\n",
        "    y_ = [1 if i>0 else 0 for i in y]\n",
        "\n",
        "    #initializing weight and bias\n",
        "    self.weight = np.zeros(n_features)\n",
        "    self.bias = 0\n",
        "\n",
        "    #gradient descenting\n",
        "    for _ in range(self.n_iters):\n",
        "      for idx, x_i in enumerate(X):\n",
        "        lm = np.dot(x_i, self.weight) + self.bias\n",
        "        y_prediction = self.activation_func(lm)\n",
        "\n",
        "        #update rule\n",
        "        update = self.lr*(y_[idx]- y_prediction)\n",
        "        self.weight += update*x_i\n",
        "        self.bias += update\n",
        "\n",
        "  \n",
        "  def predict(self,X):\n",
        "    y_prediction = np.dot(X,self.weight) + self.bias\n",
        "    return self.activation_func(y_prediction)\n",
        "\n",
        "\n",
        "def accuracy(y_true, y_pred):\n",
        "  return (np.sum(y_pred==y_true))/(len(y_true))\n"
      ],
      "execution_count": 91,
      "outputs": []
    },
    {
      "cell_type": "markdown",
      "metadata": {
        "id": "APPkOFsCaEEf"
      },
      "source": [
        "Above model creates a perceptron that can take different values for the learning rate, number of iterations and non-linear activation function such as\n",
        "\n",
        "\n",
        "*   Step Function (step_function)\n",
        "*   Signmoid Function (sigmoid)\n",
        "\n",
        "*   RELU Function (relu)\n",
        "\n",
        "*   Tanh Function (tanh)\n",
        "\n",
        "\n",
        "\n",
        "\n",
        "\n",
        "\n"
      ]
    },
    {
      "cell_type": "markdown",
      "metadata": {
        "id": "KA8ALoscbhms"
      },
      "source": [
        "#Credit Card Fraud Detection"
      ]
    },
    {
      "cell_type": "code",
      "metadata": {
        "id": "gLK4HDv11sby",
        "colab": {
          "base_uri": "https://localhost:8080/"
        },
        "outputId": "afc8f2b3-0780-4062-dfe7-c2bf8d8b6268"
      },
      "source": [
        "!wget https://raw.githubusercontent.com/nsethi31/Kaggle-Data-Credit-Card-Fraud-Detection/master/creditcard.csv\n"
      ],
      "execution_count": 17,
      "outputs": [
        {
          "output_type": "stream",
          "text": [
            "--2021-05-03 06:05:54--  https://raw.githubusercontent.com/nsethi31/Kaggle-Data-Credit-Card-Fraud-Detection/master/creditcard.csv\n",
            "Resolving raw.githubusercontent.com (raw.githubusercontent.com)... 185.199.108.133, 185.199.109.133, 185.199.110.133, ...\n",
            "Connecting to raw.githubusercontent.com (raw.githubusercontent.com)|185.199.108.133|:443... connected.\n",
            "HTTP request sent, awaiting response... 200 OK\n",
            "Length: 102634230 (98M) [text/plain]\n",
            "Saving to: ‘creditcard.csv.1’\n",
            "\n",
            "creditcard.csv.1    100%[===================>]  97.88M   161MB/s    in 0.6s    \n",
            "\n",
            "2021-05-03 06:05:55 (161 MB/s) - ‘creditcard.csv.1’ saved [102634230/102634230]\n",
            "\n"
          ],
          "name": "stdout"
        }
      ]
    },
    {
      "cell_type": "code",
      "metadata": {
        "id": "hKYcgpvi2FxY"
      },
      "source": [
        "import pandas as pd\n",
        "from sklearn.model_selection import train_test_split\n"
      ],
      "execution_count": 18,
      "outputs": []
    },
    {
      "cell_type": "code",
      "metadata": {
        "id": "1CpVlYqQ2OPQ"
      },
      "source": [
        "df = pd.read_csv(\"creditcard.csv\")"
      ],
      "execution_count": 19,
      "outputs": []
    },
    {
      "cell_type": "code",
      "metadata": {
        "colab": {
          "base_uri": "https://localhost:8080/",
          "height": 215
        },
        "id": "cNB87LCS2RFb",
        "outputId": "0b35c3ea-215b-425b-841d-9cbe9d1d039f"
      },
      "source": [
        "df.head()"
      ],
      "execution_count": 20,
      "outputs": [
        {
          "output_type": "execute_result",
          "data": {
            "text/html": [
              "<div>\n",
              "<style scoped>\n",
              "    .dataframe tbody tr th:only-of-type {\n",
              "        vertical-align: middle;\n",
              "    }\n",
              "\n",
              "    .dataframe tbody tr th {\n",
              "        vertical-align: top;\n",
              "    }\n",
              "\n",
              "    .dataframe thead th {\n",
              "        text-align: right;\n",
              "    }\n",
              "</style>\n",
              "<table border=\"1\" class=\"dataframe\">\n",
              "  <thead>\n",
              "    <tr style=\"text-align: right;\">\n",
              "      <th></th>\n",
              "      <th>Time</th>\n",
              "      <th>V1</th>\n",
              "      <th>V2</th>\n",
              "      <th>V3</th>\n",
              "      <th>V4</th>\n",
              "      <th>V5</th>\n",
              "      <th>V6</th>\n",
              "      <th>V7</th>\n",
              "      <th>V8</th>\n",
              "      <th>V9</th>\n",
              "      <th>V10</th>\n",
              "      <th>V11</th>\n",
              "      <th>V12</th>\n",
              "      <th>V13</th>\n",
              "      <th>V14</th>\n",
              "      <th>V15</th>\n",
              "      <th>V16</th>\n",
              "      <th>V17</th>\n",
              "      <th>V18</th>\n",
              "      <th>V19</th>\n",
              "      <th>V20</th>\n",
              "      <th>V21</th>\n",
              "      <th>V22</th>\n",
              "      <th>V23</th>\n",
              "      <th>V24</th>\n",
              "      <th>V25</th>\n",
              "      <th>V26</th>\n",
              "      <th>V27</th>\n",
              "      <th>V28</th>\n",
              "      <th>Amount</th>\n",
              "      <th>Class</th>\n",
              "    </tr>\n",
              "  </thead>\n",
              "  <tbody>\n",
              "    <tr>\n",
              "      <th>0</th>\n",
              "      <td>0.0</td>\n",
              "      <td>-1.359807</td>\n",
              "      <td>-0.072781</td>\n",
              "      <td>2.536347</td>\n",
              "      <td>1.378155</td>\n",
              "      <td>-0.338321</td>\n",
              "      <td>0.462388</td>\n",
              "      <td>0.239599</td>\n",
              "      <td>0.098698</td>\n",
              "      <td>0.363787</td>\n",
              "      <td>0.090794</td>\n",
              "      <td>-0.551600</td>\n",
              "      <td>-0.617801</td>\n",
              "      <td>-0.991390</td>\n",
              "      <td>-0.311169</td>\n",
              "      <td>1.468177</td>\n",
              "      <td>-0.470401</td>\n",
              "      <td>0.207971</td>\n",
              "      <td>0.025791</td>\n",
              "      <td>0.403993</td>\n",
              "      <td>0.251412</td>\n",
              "      <td>-0.018307</td>\n",
              "      <td>0.277838</td>\n",
              "      <td>-0.110474</td>\n",
              "      <td>0.066928</td>\n",
              "      <td>0.128539</td>\n",
              "      <td>-0.189115</td>\n",
              "      <td>0.133558</td>\n",
              "      <td>-0.021053</td>\n",
              "      <td>149.62</td>\n",
              "      <td>0</td>\n",
              "    </tr>\n",
              "    <tr>\n",
              "      <th>1</th>\n",
              "      <td>0.0</td>\n",
              "      <td>1.191857</td>\n",
              "      <td>0.266151</td>\n",
              "      <td>0.166480</td>\n",
              "      <td>0.448154</td>\n",
              "      <td>0.060018</td>\n",
              "      <td>-0.082361</td>\n",
              "      <td>-0.078803</td>\n",
              "      <td>0.085102</td>\n",
              "      <td>-0.255425</td>\n",
              "      <td>-0.166974</td>\n",
              "      <td>1.612727</td>\n",
              "      <td>1.065235</td>\n",
              "      <td>0.489095</td>\n",
              "      <td>-0.143772</td>\n",
              "      <td>0.635558</td>\n",
              "      <td>0.463917</td>\n",
              "      <td>-0.114805</td>\n",
              "      <td>-0.183361</td>\n",
              "      <td>-0.145783</td>\n",
              "      <td>-0.069083</td>\n",
              "      <td>-0.225775</td>\n",
              "      <td>-0.638672</td>\n",
              "      <td>0.101288</td>\n",
              "      <td>-0.339846</td>\n",
              "      <td>0.167170</td>\n",
              "      <td>0.125895</td>\n",
              "      <td>-0.008983</td>\n",
              "      <td>0.014724</td>\n",
              "      <td>2.69</td>\n",
              "      <td>0</td>\n",
              "    </tr>\n",
              "    <tr>\n",
              "      <th>2</th>\n",
              "      <td>1.0</td>\n",
              "      <td>-1.358354</td>\n",
              "      <td>-1.340163</td>\n",
              "      <td>1.773209</td>\n",
              "      <td>0.379780</td>\n",
              "      <td>-0.503198</td>\n",
              "      <td>1.800499</td>\n",
              "      <td>0.791461</td>\n",
              "      <td>0.247676</td>\n",
              "      <td>-1.514654</td>\n",
              "      <td>0.207643</td>\n",
              "      <td>0.624501</td>\n",
              "      <td>0.066084</td>\n",
              "      <td>0.717293</td>\n",
              "      <td>-0.165946</td>\n",
              "      <td>2.345865</td>\n",
              "      <td>-2.890083</td>\n",
              "      <td>1.109969</td>\n",
              "      <td>-0.121359</td>\n",
              "      <td>-2.261857</td>\n",
              "      <td>0.524980</td>\n",
              "      <td>0.247998</td>\n",
              "      <td>0.771679</td>\n",
              "      <td>0.909412</td>\n",
              "      <td>-0.689281</td>\n",
              "      <td>-0.327642</td>\n",
              "      <td>-0.139097</td>\n",
              "      <td>-0.055353</td>\n",
              "      <td>-0.059752</td>\n",
              "      <td>378.66</td>\n",
              "      <td>0</td>\n",
              "    </tr>\n",
              "    <tr>\n",
              "      <th>3</th>\n",
              "      <td>1.0</td>\n",
              "      <td>-0.966272</td>\n",
              "      <td>-0.185226</td>\n",
              "      <td>1.792993</td>\n",
              "      <td>-0.863291</td>\n",
              "      <td>-0.010309</td>\n",
              "      <td>1.247203</td>\n",
              "      <td>0.237609</td>\n",
              "      <td>0.377436</td>\n",
              "      <td>-1.387024</td>\n",
              "      <td>-0.054952</td>\n",
              "      <td>-0.226487</td>\n",
              "      <td>0.178228</td>\n",
              "      <td>0.507757</td>\n",
              "      <td>-0.287924</td>\n",
              "      <td>-0.631418</td>\n",
              "      <td>-1.059647</td>\n",
              "      <td>-0.684093</td>\n",
              "      <td>1.965775</td>\n",
              "      <td>-1.232622</td>\n",
              "      <td>-0.208038</td>\n",
              "      <td>-0.108300</td>\n",
              "      <td>0.005274</td>\n",
              "      <td>-0.190321</td>\n",
              "      <td>-1.175575</td>\n",
              "      <td>0.647376</td>\n",
              "      <td>-0.221929</td>\n",
              "      <td>0.062723</td>\n",
              "      <td>0.061458</td>\n",
              "      <td>123.50</td>\n",
              "      <td>0</td>\n",
              "    </tr>\n",
              "    <tr>\n",
              "      <th>4</th>\n",
              "      <td>2.0</td>\n",
              "      <td>-1.158233</td>\n",
              "      <td>0.877737</td>\n",
              "      <td>1.548718</td>\n",
              "      <td>0.403034</td>\n",
              "      <td>-0.407193</td>\n",
              "      <td>0.095921</td>\n",
              "      <td>0.592941</td>\n",
              "      <td>-0.270533</td>\n",
              "      <td>0.817739</td>\n",
              "      <td>0.753074</td>\n",
              "      <td>-0.822843</td>\n",
              "      <td>0.538196</td>\n",
              "      <td>1.345852</td>\n",
              "      <td>-1.119670</td>\n",
              "      <td>0.175121</td>\n",
              "      <td>-0.451449</td>\n",
              "      <td>-0.237033</td>\n",
              "      <td>-0.038195</td>\n",
              "      <td>0.803487</td>\n",
              "      <td>0.408542</td>\n",
              "      <td>-0.009431</td>\n",
              "      <td>0.798278</td>\n",
              "      <td>-0.137458</td>\n",
              "      <td>0.141267</td>\n",
              "      <td>-0.206010</td>\n",
              "      <td>0.502292</td>\n",
              "      <td>0.219422</td>\n",
              "      <td>0.215153</td>\n",
              "      <td>69.99</td>\n",
              "      <td>0</td>\n",
              "    </tr>\n",
              "  </tbody>\n",
              "</table>\n",
              "</div>"
            ],
            "text/plain": [
              "   Time        V1        V2        V3  ...       V27       V28  Amount  Class\n",
              "0   0.0 -1.359807 -0.072781  2.536347  ...  0.133558 -0.021053  149.62      0\n",
              "1   0.0  1.191857  0.266151  0.166480  ... -0.008983  0.014724    2.69      0\n",
              "2   1.0 -1.358354 -1.340163  1.773209  ... -0.055353 -0.059752  378.66      0\n",
              "3   1.0 -0.966272 -0.185226  1.792993  ...  0.062723  0.061458  123.50      0\n",
              "4   2.0 -1.158233  0.877737  1.548718  ...  0.219422  0.215153   69.99      0\n",
              "\n",
              "[5 rows x 31 columns]"
            ]
          },
          "metadata": {
            "tags": []
          },
          "execution_count": 20
        }
      ]
    },
    {
      "cell_type": "code",
      "metadata": {
        "colab": {
          "base_uri": "https://localhost:8080/"
        },
        "id": "PsnLz1fCvrck",
        "outputId": "6a31aaf1-aeb5-4702-800c-0b5e154e787c"
      },
      "source": [
        "df.columns"
      ],
      "execution_count": 21,
      "outputs": [
        {
          "output_type": "execute_result",
          "data": {
            "text/plain": [
              "Index(['Time', 'V1', 'V2', 'V3', 'V4', 'V5', 'V6', 'V7', 'V8', 'V9', 'V10',\n",
              "       'V11', 'V12', 'V13', 'V14', 'V15', 'V16', 'V17', 'V18', 'V19', 'V20',\n",
              "       'V21', 'V22', 'V23', 'V24', 'V25', 'V26', 'V27', 'V28', 'Amount',\n",
              "       'Class'],\n",
              "      dtype='object')"
            ]
          },
          "metadata": {
            "tags": []
          },
          "execution_count": 21
        }
      ]
    },
    {
      "cell_type": "code",
      "metadata": {
        "colab": {
          "base_uri": "https://localhost:8080/"
        },
        "id": "g6eedu_ivtz4",
        "outputId": "519d946b-3ebe-47d3-bfdd-557bd21a83b8"
      },
      "source": [
        "df.info()"
      ],
      "execution_count": 22,
      "outputs": [
        {
          "output_type": "stream",
          "text": [
            "<class 'pandas.core.frame.DataFrame'>\n",
            "RangeIndex: 284807 entries, 0 to 284806\n",
            "Data columns (total 31 columns):\n",
            " #   Column  Non-Null Count   Dtype  \n",
            "---  ------  --------------   -----  \n",
            " 0   Time    284807 non-null  float64\n",
            " 1   V1      284807 non-null  float64\n",
            " 2   V2      284807 non-null  float64\n",
            " 3   V3      284807 non-null  float64\n",
            " 4   V4      284807 non-null  float64\n",
            " 5   V5      284807 non-null  float64\n",
            " 6   V6      284807 non-null  float64\n",
            " 7   V7      284807 non-null  float64\n",
            " 8   V8      284807 non-null  float64\n",
            " 9   V9      284807 non-null  float64\n",
            " 10  V10     284807 non-null  float64\n",
            " 11  V11     284807 non-null  float64\n",
            " 12  V12     284807 non-null  float64\n",
            " 13  V13     284807 non-null  float64\n",
            " 14  V14     284807 non-null  float64\n",
            " 15  V15     284807 non-null  float64\n",
            " 16  V16     284807 non-null  float64\n",
            " 17  V17     284807 non-null  float64\n",
            " 18  V18     284807 non-null  float64\n",
            " 19  V19     284807 non-null  float64\n",
            " 20  V20     284807 non-null  float64\n",
            " 21  V21     284807 non-null  float64\n",
            " 22  V22     284807 non-null  float64\n",
            " 23  V23     284807 non-null  float64\n",
            " 24  V24     284807 non-null  float64\n",
            " 25  V25     284807 non-null  float64\n",
            " 26  V26     284807 non-null  float64\n",
            " 27  V27     284807 non-null  float64\n",
            " 28  V28     284807 non-null  float64\n",
            " 29  Amount  284807 non-null  float64\n",
            " 30  Class   284807 non-null  int64  \n",
            "dtypes: float64(30), int64(1)\n",
            "memory usage: 67.4 MB\n"
          ],
          "name": "stdout"
        }
      ]
    },
    {
      "cell_type": "code",
      "metadata": {
        "colab": {
          "base_uri": "https://localhost:8080/"
        },
        "id": "8BpfwDat2TEC",
        "outputId": "cbee9ffa-15d0-4eca-adbf-c2922afdd773"
      },
      "source": [
        "df.isnull().sum()"
      ],
      "execution_count": 23,
      "outputs": [
        {
          "output_type": "execute_result",
          "data": {
            "text/plain": [
              "Time      0\n",
              "V1        0\n",
              "V2        0\n",
              "V3        0\n",
              "V4        0\n",
              "V5        0\n",
              "V6        0\n",
              "V7        0\n",
              "V8        0\n",
              "V9        0\n",
              "V10       0\n",
              "V11       0\n",
              "V12       0\n",
              "V13       0\n",
              "V14       0\n",
              "V15       0\n",
              "V16       0\n",
              "V17       0\n",
              "V18       0\n",
              "V19       0\n",
              "V20       0\n",
              "V21       0\n",
              "V22       0\n",
              "V23       0\n",
              "V24       0\n",
              "V25       0\n",
              "V26       0\n",
              "V27       0\n",
              "V28       0\n",
              "Amount    0\n",
              "Class     0\n",
              "dtype: int64"
            ]
          },
          "metadata": {
            "tags": []
          },
          "execution_count": 23
        }
      ]
    },
    {
      "cell_type": "markdown",
      "metadata": {
        "id": "IQYw9HrDv8Kj"
      },
      "source": [
        "There are no missing values in the dataset"
      ]
    },
    {
      "cell_type": "code",
      "metadata": {
        "colab": {
          "base_uri": "https://localhost:8080/"
        },
        "id": "C03jl-p82gMe",
        "outputId": "52206a28-dc90-407c-eab7-aa684e3e103f"
      },
      "source": [
        "df.Class.value_counts()"
      ],
      "execution_count": 24,
      "outputs": [
        {
          "output_type": "execute_result",
          "data": {
            "text/plain": [
              "0    284315\n",
              "1       492\n",
              "Name: Class, dtype: int64"
            ]
          },
          "metadata": {
            "tags": []
          },
          "execution_count": 24
        }
      ]
    },
    {
      "cell_type": "markdown",
      "metadata": {
        "id": "jwDzpzDtb53M"
      },
      "source": [
        "The given dataset is heavily imbalanced as seen from the counts, so undersampling method is used. \n",
        "\n",
        "After doing so, there will be same number of 0's and 1's in the dataset."
      ]
    },
    {
      "cell_type": "markdown",
      "metadata": {
        "id": "Wv2NEpjwUOHS"
      },
      "source": [
        "#Base Line Model"
      ]
    },
    {
      "cell_type": "code",
      "metadata": {
        "id": "GB-Y_JnoUIxs"
      },
      "source": [
        "df1 = df.copy()"
      ],
      "execution_count": null,
      "outputs": []
    },
    {
      "cell_type": "code",
      "metadata": {
        "id": "vMo24U4kemUm"
      },
      "source": [
        "X = df1.drop(\"Class\",axis =1)\n",
        "y = df1.Class"
      ],
      "execution_count": null,
      "outputs": []
    },
    {
      "cell_type": "code",
      "metadata": {
        "id": "HI2VnRyQkpsi"
      },
      "source": [
        "X_train, X_test, y_train, y_test = train_test_split(X,y,test_size = 0.3, random_state=42)\n",
        "\n",
        "p = Perceptron(learning_rate=0.01, n_iters = 1000)\n"
      ],
      "execution_count": null,
      "outputs": []
    },
    {
      "cell_type": "code",
      "metadata": {
        "id": "5QfwQnJJ2aW-"
      },
      "source": [
        "X_train = np.array(X_train)\n",
        "y_train = np.array(y_train)"
      ],
      "execution_count": null,
      "outputs": []
    },
    {
      "cell_type": "code",
      "metadata": {
        "id": "4WmPndFvyI8f"
      },
      "source": [
        "p.fit(X_train,y_train)"
      ],
      "execution_count": null,
      "outputs": []
    },
    {
      "cell_type": "code",
      "metadata": {
        "colab": {
          "base_uri": "https://localhost:8080/"
        },
        "id": "K4HIVkLnCQat",
        "outputId": "e5a2242a-526c-4944-bc21-3119bda9f93e"
      },
      "source": [
        "y_pred = p.predict(X_test)\n",
        "#print(\"learning rate: \" + str(i) + \" no. of iterations: \" + str(j))\n",
        "print(accuracy(y_test, y_pred))"
      ],
      "execution_count": null,
      "outputs": [
        {
          "output_type": "stream",
          "text": [
            "0.9982093325374811\n"
          ],
          "name": "stdout"
        }
      ]
    },
    {
      "cell_type": "markdown",
      "metadata": {
        "id": "t3cg03JnwRLJ"
      },
      "source": [
        "The baseline model gives an accuracy of 99.82%, which is invalid since the dataset is imbalanced. \n",
        "\n"
      ]
    },
    {
      "cell_type": "markdown",
      "metadata": {
        "id": "S9KeTGxowiqQ"
      },
      "source": [
        "Models will be created using some undersampling methods"
      ]
    },
    {
      "cell_type": "markdown",
      "metadata": {
        "id": "oH04hR0KUUO8"
      },
      "source": [
        "#Undersampling"
      ]
    },
    {
      "cell_type": "code",
      "metadata": {
        "id": "9vllOw572sX6"
      },
      "source": [
        "X = df.drop(\"Class\",axis=1)\n",
        "y = df.Class"
      ],
      "execution_count": 92,
      "outputs": []
    },
    {
      "cell_type": "code",
      "metadata": {
        "colab": {
          "base_uri": "https://localhost:8080/"
        },
        "id": "MoGWi6pN2jYE",
        "outputId": "2f638c67-0be2-493e-8088-80bc68e1f0c0"
      },
      "source": [
        "from imblearn.under_sampling import NearMiss\n",
        "nm = NearMiss(random_state=42)\n",
        "X_res,y_res=nm.fit_sample(X,y)"
      ],
      "execution_count": 93,
      "outputs": [
        {
          "output_type": "stream",
          "text": [
            "/usr/local/lib/python3.7/dist-packages/sklearn/utils/deprecation.py:87: FutureWarning: Function safe_indexing is deprecated; safe_indexing is deprecated in version 0.22 and will be removed in version 0.24.\n",
            "  warnings.warn(msg, category=FutureWarning)\n",
            "/usr/local/lib/python3.7/dist-packages/sklearn/utils/deprecation.py:87: FutureWarning: Function safe_indexing is deprecated; safe_indexing is deprecated in version 0.22 and will be removed in version 0.24.\n",
            "  warnings.warn(msg, category=FutureWarning)\n",
            "/usr/local/lib/python3.7/dist-packages/sklearn/utils/deprecation.py:87: FutureWarning: Function safe_indexing is deprecated; safe_indexing is deprecated in version 0.22 and will be removed in version 0.24.\n",
            "  warnings.warn(msg, category=FutureWarning)\n"
          ],
          "name": "stderr"
        }
      ]
    },
    {
      "cell_type": "code",
      "metadata": {
        "colab": {
          "base_uri": "https://localhost:8080/"
        },
        "id": "O_ncg5nm2oJ8",
        "outputId": "1f282c00-5c8a-4bd1-9e1a-5ee355b5011b"
      },
      "source": [
        "X_res.shape , y_res.shape"
      ],
      "execution_count": 94,
      "outputs": [
        {
          "output_type": "execute_result",
          "data": {
            "text/plain": [
              "((984, 30), (984,))"
            ]
          },
          "metadata": {
            "tags": []
          },
          "execution_count": 94
        }
      ]
    },
    {
      "cell_type": "code",
      "metadata": {
        "id": "peouHlvD21Ol"
      },
      "source": [
        "X_train, X_test, y_train, y_test = train_test_split(X_res, y_res, test_size = 0.3, random_state=42)\n"
      ],
      "execution_count": 95,
      "outputs": []
    },
    {
      "cell_type": "code",
      "metadata": {
        "id": "bZ-RXRT66uIX"
      },
      "source": [
        "#List of values of hyperparameters used while training the model\n",
        "\n",
        "learning_rate_list = [0.01,0.001,0.0001]\n",
        "n_iters_list = [10,100,1000]"
      ],
      "execution_count": 96,
      "outputs": []
    },
    {
      "cell_type": "markdown",
      "metadata": {
        "id": "j9-F8hwB22YH"
      },
      "source": [
        "##Step Function"
      ]
    },
    {
      "cell_type": "code",
      "metadata": {
        "colab": {
          "base_uri": "https://localhost:8080/"
        },
        "id": "yuhTuMhQ-Bzo",
        "outputId": "a856fa10-e17c-4f4c-a58e-925372b4b3a7"
      },
      "source": [
        "\n",
        "accuracy_step_list=[]\n",
        "learning_rate_list1 = []\n",
        "n_iters_list1 = []\n",
        "for i in learning_rate_list:\n",
        "  for j in n_iters_list:\n",
        "    p = Perceptron(i,j,function='step_function')\n",
        "    p.fit(X_train,y_train)\n",
        "    y_pred = p.predict(X_test)\n",
        "    print(\"learning rate: \" + str(i) + \" no. of iterations: \" + str(j))\n",
        "    print(accuracy(y_test, y_pred)*100,'%')\n",
        "    accuracy_step_list.append(accuracy(y_test, y_pred))\n",
        "    learning_rate_list1.append(i)\n",
        "    n_iters_list1.append(j)\n",
        "\n"
      ],
      "execution_count": 97,
      "outputs": [
        {
          "output_type": "stream",
          "text": [
            "learning rate: 0.01 no. of iterations: 10\n",
            "51.35135135135135 %\n",
            "learning rate: 0.01 no. of iterations: 100\n",
            "53.71621621621622 %\n",
            "learning rate: 0.01 no. of iterations: 1000\n",
            "60.810810810810814 %\n",
            "learning rate: 0.001 no. of iterations: 10\n",
            "51.35135135135135 %\n",
            "learning rate: 0.001 no. of iterations: 100\n",
            "53.71621621621622 %\n",
            "learning rate: 0.001 no. of iterations: 1000\n",
            "60.810810810810814 %\n",
            "learning rate: 0.0001 no. of iterations: 10\n",
            "51.35135135135135 %\n",
            "learning rate: 0.0001 no. of iterations: 100\n",
            "53.71621621621622 %\n",
            "learning rate: 0.0001 no. of iterations: 1000\n",
            "60.810810810810814 %\n"
          ],
          "name": "stdout"
        }
      ]
    },
    {
      "cell_type": "code",
      "metadata": {
        "id": "aefqrqZgXdKu"
      },
      "source": [
        "def max_accuracy(accuracy_list, learning_rate_accuracy, no_iters_accuracy):\n",
        "  max_accuracy = max(accuracy_list)\n",
        "  i = accuracy_list.index(max_accuracy)\n",
        "  lr = learning_rate_accuracy[i]\n",
        "  ni = no_iters_accuracy[i]\n",
        "  print(\"Non-linear function: \",p.activation_func)\n",
        "  print(\"Maximum accuracy: \",(max_accuracy)*100,\"%\\nLearning rate: \",lr,\"\\nnumber of iterations: \",ni)"
      ],
      "execution_count": 98,
      "outputs": []
    },
    {
      "cell_type": "code",
      "metadata": {
        "colab": {
          "base_uri": "https://localhost:8080/"
        },
        "id": "lbW_IxKGYqts",
        "outputId": "de19cfaf-35fe-4895-d841-c0d5e8bddb18"
      },
      "source": [
        "max_accuracy(accuracy_step_list,learning_rate_list1,n_iters_list1)"
      ],
      "execution_count": 99,
      "outputs": [
        {
          "output_type": "stream",
          "text": [
            "Non-linear function:  <bound method Perceptron._unit_step_func of <__main__.Perceptron object at 0x7f81218431d0>>\n",
            "Maximum accuracy:  60.810810810810814 %\n",
            "Learning rate:  0.01 \n",
            "number of iterations:  1000\n"
          ],
          "name": "stdout"
        }
      ]
    },
    {
      "cell_type": "code",
      "metadata": {
        "id": "cEfh3W7Zkq_x"
      },
      "source": [
        ""
      ],
      "execution_count": 99,
      "outputs": []
    },
    {
      "cell_type": "markdown",
      "metadata": {
        "id": "VevoqIPG8JFI"
      },
      "source": [
        "##Sigmoid Function"
      ]
    },
    {
      "cell_type": "code",
      "metadata": {
        "colab": {
          "base_uri": "https://localhost:8080/"
        },
        "id": "CpF4o4XSHfex",
        "outputId": "c5594898-0c7b-4f70-b57e-89b194a2aa9c"
      },
      "source": [
        "learning_rate_list2 = []\n",
        "n_iters_list2 = []\n",
        "accuracy_sigmoid_list=[]\n",
        "for i in learning_rate_list:\n",
        "  for j in n_iters_list:\n",
        "    p = Perceptron(i,j,function='sigmoid')\n",
        "    p.fit(X_train,y_train)\n",
        "    y_pred = p.predict(X_test)\n",
        "    print(\"learning rate: \" + str(i) + \" no. of iterations: \" + str(j))\n",
        "    print(accuracy(y_test, y_pred))\n",
        "    accuracy_sigmoid_list.append(accuracy(y_test, y_pred))\n",
        "    learning_rate_list2.append(i)\n",
        "    n_iters_list2.append(j)"
      ],
      "execution_count": 100,
      "outputs": [
        {
          "output_type": "stream",
          "text": [
            "/usr/local/lib/python3.7/dist-packages/ipykernel_launcher.py:22: RuntimeWarning: overflow encountered in exp\n"
          ],
          "name": "stderr"
        },
        {
          "output_type": "stream",
          "text": [
            "learning rate: 0.01 no. of iterations: 10\n",
            "0.5135135135135135\n",
            "learning rate: 0.01 no. of iterations: 100\n",
            "0.7567567567567568\n",
            "learning rate: 0.01 no. of iterations: 1000\n",
            "0.668918918918919\n",
            "learning rate: 0.001 no. of iterations: 10\n",
            "0.5135135135135135\n",
            "learning rate: 0.001 no. of iterations: 100\n",
            "0.75\n",
            "learning rate: 0.001 no. of iterations: 1000\n",
            "0.5337837837837838\n",
            "learning rate: 0.0001 no. of iterations: 10\n",
            "0.5135135135135135\n",
            "learning rate: 0.0001 no. of iterations: 100\n",
            "0.5371621621621622\n",
            "learning rate: 0.0001 no. of iterations: 1000\n",
            "0.5337837837837838\n"
          ],
          "name": "stdout"
        }
      ]
    },
    {
      "cell_type": "code",
      "metadata": {
        "colab": {
          "base_uri": "https://localhost:8080/"
        },
        "id": "rEzC9viTaXFD",
        "outputId": "cd01d1d8-55d0-4f9d-f306-92a32344abe7"
      },
      "source": [
        "max_accuracy(accuracy_sigmoid_list,learning_rate_list2,n_iters_list2)"
      ],
      "execution_count": 101,
      "outputs": [
        {
          "output_type": "stream",
          "text": [
            "Non-linear function:  <bound method Perceptron._sigmoid_func of <__main__.Perceptron object at 0x7f811e0811d0>>\n",
            "Maximum accuracy:  75.67567567567568 %\n",
            "Learning rate:  0.01 \n",
            "number of iterations:  100\n"
          ],
          "name": "stdout"
        }
      ]
    },
    {
      "cell_type": "code",
      "metadata": {
        "id": "XXyb95QT8Uog"
      },
      "source": [
        ""
      ],
      "execution_count": 101,
      "outputs": []
    },
    {
      "cell_type": "markdown",
      "metadata": {
        "id": "Kb8Uhxax8U1n"
      },
      "source": [
        "##Relu Function"
      ]
    },
    {
      "cell_type": "code",
      "metadata": {
        "colab": {
          "base_uri": "https://localhost:8080/"
        },
        "id": "3YB8xya9JIV-",
        "outputId": "00e9751c-a673-4c90-d83a-a4a708a0d7b5"
      },
      "source": [
        "learning_rate_list3 = []\n",
        "n_iters_list3 = []\n",
        "accuracy_relu_list=[]\n",
        "for i in learning_rate_list:\n",
        "  for j in n_iters_list:\n",
        "    p = Perceptron(learning_rate = i,n_iters=j,function='relu')\n",
        "    p.fit(X_train,y_train)\n",
        "    y_pred = p.predict(X_test)\n",
        "    print(\"learning rate: \" + str(i) + \" no. of iterations: \" + str(j))\n",
        "    print(accuracy(y_test, y_pred))\n",
        "    accuracy_relu_list.append(accuracy(y_test, y_pred))\n",
        "    learning_rate_list3.append(i)\n",
        "    n_iters_list3.append(j)\n"
      ],
      "execution_count": 102,
      "outputs": [
        {
          "output_type": "stream",
          "text": [
            "learning rate: 0.01 no. of iterations: 10\n",
            "0.5067567567567568\n",
            "learning rate: 0.01 no. of iterations: 100\n",
            "0.5067567567567568\n",
            "learning rate: 0.01 no. of iterations: 1000\n",
            "0.5067567567567568\n",
            "learning rate: 0.001 no. of iterations: 10\n",
            "0.5067567567567568\n",
            "learning rate: 0.001 no. of iterations: 100\n",
            "0.5067567567567568\n",
            "learning rate: 0.001 no. of iterations: 1000\n",
            "0.5067567567567568\n",
            "learning rate: 0.0001 no. of iterations: 10\n",
            "0.5067567567567568\n",
            "learning rate: 0.0001 no. of iterations: 100\n",
            "0.5067567567567568\n",
            "learning rate: 0.0001 no. of iterations: 1000\n",
            "0.5067567567567568\n"
          ],
          "name": "stdout"
        }
      ]
    },
    {
      "cell_type": "code",
      "metadata": {
        "colab": {
          "base_uri": "https://localhost:8080/"
        },
        "id": "g4iGFdsq8bDv",
        "outputId": "91e7831a-00db-4f3d-f494-4b61f1f87713"
      },
      "source": [
        "max_accuracy(accuracy_relu_list,learning_rate_list3,n_iters_list3)"
      ],
      "execution_count": 103,
      "outputs": [
        {
          "output_type": "stream",
          "text": [
            "Non-linear function:  <bound method Perceptron._relu_func of <__main__.Perceptron object at 0x7f812181a3d0>>\n",
            "Maximum accuracy:  50.67567567567568 %\n",
            "Learning rate:  0.01 \n",
            "number of iterations:  10\n"
          ],
          "name": "stdout"
        }
      ]
    },
    {
      "cell_type": "code",
      "metadata": {
        "id": "O_9XxgXc9Vpi"
      },
      "source": [
        ""
      ],
      "execution_count": 103,
      "outputs": []
    },
    {
      "cell_type": "markdown",
      "metadata": {
        "id": "s7Oimc2w9V1c"
      },
      "source": [
        "##Tanh Function "
      ]
    },
    {
      "cell_type": "code",
      "metadata": {
        "colab": {
          "base_uri": "https://localhost:8080/"
        },
        "id": "RPOIEcJiR80u",
        "outputId": "6b2667c4-9267-4736-96ad-989599d5b581"
      },
      "source": [
        "learning_rate_list4 = []\n",
        "n_iters_list4 = []\n",
        "accuracy_tanh_list=[]\n",
        "for i in learning_rate_list:\n",
        "  for j in n_iters_list:\n",
        "    p = Perceptron(learning_rate = i,n_iters=j,function='tanh')\n",
        "    p.fit(X_train,y_train)\n",
        "    y_pred = p.predict(X_test)\n",
        "    print(\"learning rate: \" + str(i) + \" no. of iterations: \" + str(j))\n",
        "    print(accuracy(y_test, y_pred))\n",
        "    accuracy_tanh_list.append(accuracy(y_test, y_pred))\n",
        "    learning_rate_list4.append(i)\n",
        "    n_iters_list4.append(j)"
      ],
      "execution_count": 104,
      "outputs": [
        {
          "output_type": "stream",
          "text": [
            "learning rate: 0.01 no. of iterations: 10\n",
            "0.0\n"
          ],
          "name": "stdout"
        },
        {
          "output_type": "stream",
          "text": [
            "/usr/local/lib/python3.7/dist-packages/ipykernel_launcher.py:28: RuntimeWarning: overflow encountered in exp\n"
          ],
          "name": "stderr"
        },
        {
          "output_type": "stream",
          "text": [
            "learning rate: 0.01 no. of iterations: 100\n",
            "0.006756756756756757\n",
            "learning rate: 0.01 no. of iterations: 1000\n",
            "0.02702702702702703\n",
            "learning rate: 0.001 no. of iterations: 10\n",
            "0.0\n",
            "learning rate: 0.001 no. of iterations: 100\n",
            "0.006756756756756757\n",
            "learning rate: 0.001 no. of iterations: 1000\n",
            "0.02702702702702703\n",
            "learning rate: 0.0001 no. of iterations: 10\n",
            "0.0\n",
            "learning rate: 0.0001 no. of iterations: 100\n",
            "0.006756756756756757\n",
            "learning rate: 0.0001 no. of iterations: 1000\n",
            "0.02702702702702703\n"
          ],
          "name": "stdout"
        }
      ]
    },
    {
      "cell_type": "code",
      "metadata": {
        "id": "-20HNRl_z70b",
        "colab": {
          "base_uri": "https://localhost:8080/"
        },
        "outputId": "5733feed-6ba6-4f80-e71d-aa6a0bb02c9e"
      },
      "source": [
        "max_accuracy(accuracy_tanh_list,learning_rate_list4,n_iters_list4)"
      ],
      "execution_count": 105,
      "outputs": [
        {
          "output_type": "stream",
          "text": [
            "Non-linear function:  <bound method Perceptron._tanh_func of <__main__.Perceptron object at 0x7f811cfc0b90>>\n",
            "Maximum accuracy:  2.7027027027027026 %\n",
            "Learning rate:  0.01 \n",
            "number of iterations:  1000\n"
          ],
          "name": "stdout"
        }
      ]
    },
    {
      "cell_type": "code",
      "metadata": {
        "id": "cbAhfyxE9_zm"
      },
      "source": [
        ""
      ],
      "execution_count": 105,
      "outputs": []
    }
  ]
}